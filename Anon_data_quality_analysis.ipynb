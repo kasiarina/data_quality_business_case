{
 "cells": [
  {
   "cell_type": "markdown",
   "id": "94b1bb04-e7a6-4072-92a0-2f049491d459",
   "metadata": {},
   "source": [
    "# Assortment Data Quality Analysis #\n",
    "This notebook presents a comprehensive analysis of product data discrepancies between a Product Information Management (PIM) system and a Catalog tool for a leading global e-commerce platform. The goal of this project is to identify and resolve inconsistencies in product data, ensuring high-quality and consistent information across both backend (PIM) and user-facing (Catalog) systems.\n",
    "\n",
    "Discrepancies between the two systems can arise due to various reasons, such as overrides by Local Teams in the Catalog or misalignments caused by subsequent updates in the PIM. These inconsistencies can negatively impact user experience, operational efficiency, and overall data integrity. This analysis aims to quantify and categorize the discrepancies in order to propose a resolution strategy to address the identified issues, suggest preventive measures to avoid similar issues in the future and outline an operational plan to implement the resolution efficiently."
   ]
  },
  {
   "cell_type": "markdown",
   "id": "9e14bc2f-c54d-4cc3-80ab-0c17fa20b9ea",
   "metadata": {},
   "source": [
    "## Data Anonymization\n",
    "The original dataset contained proprietary and sensitive information related to a leading global e-commerce platform. To ensure the confidentiality and privacy of sensitive information, the dataset provided for this analysis was anonymized using hashing techniques. \n",
    "\n",
    "Identifiable information, such as partner names, product IDs, and other unique identifiers, was replaced with hashed values using a secure hashing algorithm.\n",
    "\n",
    "The anonymization process was designed to avoid altering the relationships between data points, ensuring the analysis results remain valid."
   ]
  },
  {
   "cell_type": "markdown",
   "id": "58038028-9e65-484c-8bfd-dffc63ac512b",
   "metadata": {},
   "source": [
    "### Libraries and dataset import\n",
    "I use some key Python libraries:  \n",
    "- **Pandas** and **NumPy** for data manipulation and calculations.  \n",
    "- **Matplotlib** and **Seaborn** for creating visualizations.  \n",
    "- **SciKit-Learn** to compute **Jaccard Similarity**, to compare similarities in product names.  \n",
    "- **FuzzyWuzzy** for fuzzy string matching, to spot text discrepancies like mismatched product titles. "
   ]
  },
  {
   "cell_type": "code",
   "execution_count": 1,
   "id": "7d18d39e-ba6a-4173-9455-971f32deae1b",
   "metadata": {},
   "outputs": [],
   "source": [
    "import pandas as pd\n",
    "import matplotlib.pyplot as plt\n",
    "import seaborn as sns\n",
    "import numpy as np\n",
    "from sklearn.feature_extraction.text import TfidfVectorizer \n",
    "from sklearn.metrics.pairwise import cosine_similarity\n",
    "from fuzzywuzzy import fuzz"
   ]
  },
  {
   "cell_type": "code",
   "execution_count": 3,
   "id": "228b9765-934f-4290-b906-b731e707c221",
   "metadata": {},
   "outputs": [],
   "source": [
    "df = pd.read_csv('anonymized_dataset.csv')"
   ]
  },
  {
   "cell_type": "markdown",
   "id": "e6ddb485-34f7-4dde-97c3-8353f307d7fe",
   "metadata": {},
   "source": [
    "## Data cleaning\n",
    "Before diving into the analysis, I started by exploring the dataset to understand its structure and identify any issues. To ensure the data was clean and ready for analysis, I performed the following steps:  \n",
    "- **Removed duplicates**: I eliminated redundant rows to avoid skewing the results.  \n",
    "- **Handled null values**: I addressed missing data to maintain the dataset's integrity.  \n",
    "- **Renamed columns**: I standardized column names for clarity and consistency.  "
   ]
  },
  {
   "cell_type": "code",
   "execution_count": 7,
   "id": "8117a0f6-f9d2-4645-aa61-6b789af8f54f",
   "metadata": {},
   "outputs": [
    {
     "data": {
      "text/html": [
       "<div>\n",
       "<style scoped>\n",
       "    .dataframe tbody tr th:only-of-type {\n",
       "        vertical-align: middle;\n",
       "    }\n",
       "\n",
       "    .dataframe tbody tr th {\n",
       "        vertical-align: top;\n",
       "    }\n",
       "\n",
       "    .dataframe thead th {\n",
       "        text-align: right;\n",
       "    }\n",
       "</style>\n",
       "<table border=\"1\" class=\"dataframe\">\n",
       "  <thead>\n",
       "    <tr style=\"text-align: right;\">\n",
       "      <th></th>\n",
       "      <th>Partner Name</th>\n",
       "      <th>PIM PRODUCT CODE</th>\n",
       "      <th>Catalog PRODUCT CODE</th>\n",
       "      <th>Barcodes/EAN</th>\n",
       "      <th>PIM Product Name</th>\n",
       "      <th>PIM Image</th>\n",
       "      <th>Catalog Product Name</th>\n",
       "      <th>Catalog Image</th>\n",
       "      <th>GMV</th>\n",
       "      <th>Unnamed: 9</th>\n",
       "      <th>...</th>\n",
       "      <th>Unnamed: 40</th>\n",
       "      <th>Unnamed: 41</th>\n",
       "      <th>Unnamed: 42</th>\n",
       "      <th>Unnamed: 43</th>\n",
       "      <th>Unnamed: 44</th>\n",
       "      <th>Unnamed: 45</th>\n",
       "      <th>Unnamed: 46</th>\n",
       "      <th>Unnamed: 47</th>\n",
       "      <th>Unnamed: 48</th>\n",
       "      <th>Unnamed: 49</th>\n",
       "    </tr>\n",
       "  </thead>\n",
       "  <tbody>\n",
       "    <tr>\n",
       "      <th>0</th>\n",
       "      <td>Partner A</td>\n",
       "      <td>f2699911a7d9e406a6cc0e9a3667be599e6db75e654d28...</td>\n",
       "      <td>591431563cd31998b49d2975b9ef3079aacf545f6dc04a...</td>\n",
       "      <td>67e0bdb7b6c549d4fa834d0f6848ce6a3a12e07de9cea9...</td>\n",
       "      <td>Product 04714d</td>\n",
       "      <td>https://example.com/image_8a1c42816d5dfebb035f...</td>\n",
       "      <td>Product 04714d</td>\n",
       "      <td>https://example.com/image_8a1c42816d5dfebb035f...</td>\n",
       "      <td>€2,580.28</td>\n",
       "      <td>NaN</td>\n",
       "      <td>...</td>\n",
       "      <td>NaN</td>\n",
       "      <td>NaN</td>\n",
       "      <td>NaN</td>\n",
       "      <td>NaN</td>\n",
       "      <td>NaN</td>\n",
       "      <td>NaN</td>\n",
       "      <td>NaN</td>\n",
       "      <td>NaN</td>\n",
       "      <td>NaN</td>\n",
       "      <td>#REF!</td>\n",
       "    </tr>\n",
       "    <tr>\n",
       "      <th>1</th>\n",
       "      <td>Partner A</td>\n",
       "      <td>22a4f1e912eb85c45139ede7cc39cfebb7dfd8268a0cd8...</td>\n",
       "      <td>68427b93007b98afa14a846f3d61c7baf49b8a2109b8f8...</td>\n",
       "      <td>9520e2f032a8297c8655670d4c7d36fec098b992e64842...</td>\n",
       "      <td>Product 410955</td>\n",
       "      <td>https://example.com/image_b9cd4aeba4c0ad6f572e...</td>\n",
       "      <td>Product 0f420d</td>\n",
       "      <td>https://example.com/image_b9cd4aeba4c0ad6f572e...</td>\n",
       "      <td>€339.97</td>\n",
       "      <td>NaN</td>\n",
       "      <td>...</td>\n",
       "      <td>NaN</td>\n",
       "      <td>NaN</td>\n",
       "      <td>NaN</td>\n",
       "      <td>NaN</td>\n",
       "      <td>NaN</td>\n",
       "      <td>NaN</td>\n",
       "      <td>NaN</td>\n",
       "      <td>NaN</td>\n",
       "      <td>NaN</td>\n",
       "      <td>NaN</td>\n",
       "    </tr>\n",
       "    <tr>\n",
       "      <th>2</th>\n",
       "      <td>Partner A</td>\n",
       "      <td>005ea17847ff545137225f41e75d0bc95584afa48553fd...</td>\n",
       "      <td>c3e7baef68d03cae950a66c62252164e5d392fe8fad6e1...</td>\n",
       "      <td>8eb24a6640c4f06227f76d5e04a38dbe51f37fd31f8dfb...</td>\n",
       "      <td>Product 182459</td>\n",
       "      <td>https://example.com/image_454ddcb818e468cc918c...</td>\n",
       "      <td>Product 8b7e14</td>\n",
       "      <td>https://example.com/image_454ddcb818e468cc918c...</td>\n",
       "      <td>€585.54</td>\n",
       "      <td>NaN</td>\n",
       "      <td>...</td>\n",
       "      <td>NaN</td>\n",
       "      <td>NaN</td>\n",
       "      <td>NaN</td>\n",
       "      <td>NaN</td>\n",
       "      <td>NaN</td>\n",
       "      <td>NaN</td>\n",
       "      <td>NaN</td>\n",
       "      <td>NaN</td>\n",
       "      <td>NaN</td>\n",
       "      <td>NaN</td>\n",
       "    </tr>\n",
       "    <tr>\n",
       "      <th>3</th>\n",
       "      <td>Partner A</td>\n",
       "      <td>1000136121cba7779e3d743a0d149ffea7d08a05c4e446...</td>\n",
       "      <td>5e385628f5c24e6edab55fcb6d0115e3d9eda88ac2bd73...</td>\n",
       "      <td>e3e2709ee4f926635d0af6013a5a386ce8274343d5803d...</td>\n",
       "      <td>Product 2fd5d7</td>\n",
       "      <td>https://example.com/image_a4e0abd80597251baedf...</td>\n",
       "      <td>Product a372cc</td>\n",
       "      <td>https://example.com/image_a4e0abd80597251baedf...</td>\n",
       "      <td>€4,329.74</td>\n",
       "      <td>NaN</td>\n",
       "      <td>...</td>\n",
       "      <td>NaN</td>\n",
       "      <td>NaN</td>\n",
       "      <td>NaN</td>\n",
       "      <td>NaN</td>\n",
       "      <td>NaN</td>\n",
       "      <td>NaN</td>\n",
       "      <td>NaN</td>\n",
       "      <td>NaN</td>\n",
       "      <td>NaN</td>\n",
       "      <td>NaN</td>\n",
       "    </tr>\n",
       "    <tr>\n",
       "      <th>4</th>\n",
       "      <td>Partner A</td>\n",
       "      <td>69dec83b05d2a12bf8dee43c64c547a41cbff755431e19...</td>\n",
       "      <td>d2bb7f3a7aff27bde86d5da4834aaa584af3f1e8f89334...</td>\n",
       "      <td>a2c822ad6c4ba24b5f35d13da61a9691248faf454dcd44...</td>\n",
       "      <td>Product f9a213</td>\n",
       "      <td>https://example.com/image_64b4b97185c5d5686e7d...</td>\n",
       "      <td>Product d9debc</td>\n",
       "      <td>https://example.com/image_64b4b97185c5d5686e7d...</td>\n",
       "      <td>€10,220.93</td>\n",
       "      <td>NaN</td>\n",
       "      <td>...</td>\n",
       "      <td>NaN</td>\n",
       "      <td>NaN</td>\n",
       "      <td>NaN</td>\n",
       "      <td>NaN</td>\n",
       "      <td>NaN</td>\n",
       "      <td>NaN</td>\n",
       "      <td>NaN</td>\n",
       "      <td>NaN</td>\n",
       "      <td>NaN</td>\n",
       "      <td>NaN</td>\n",
       "    </tr>\n",
       "  </tbody>\n",
       "</table>\n",
       "<p>5 rows × 50 columns</p>\n",
       "</div>"
      ],
      "text/plain": [
       "  Partner Name                                   PIM PRODUCT CODE  \\\n",
       "0    Partner A  f2699911a7d9e406a6cc0e9a3667be599e6db75e654d28...   \n",
       "1    Partner A  22a4f1e912eb85c45139ede7cc39cfebb7dfd8268a0cd8...   \n",
       "2    Partner A  005ea17847ff545137225f41e75d0bc95584afa48553fd...   \n",
       "3    Partner A  1000136121cba7779e3d743a0d149ffea7d08a05c4e446...   \n",
       "4    Partner A  69dec83b05d2a12bf8dee43c64c547a41cbff755431e19...   \n",
       "\n",
       "                                Catalog PRODUCT CODE  \\\n",
       "0  591431563cd31998b49d2975b9ef3079aacf545f6dc04a...   \n",
       "1  68427b93007b98afa14a846f3d61c7baf49b8a2109b8f8...   \n",
       "2  c3e7baef68d03cae950a66c62252164e5d392fe8fad6e1...   \n",
       "3  5e385628f5c24e6edab55fcb6d0115e3d9eda88ac2bd73...   \n",
       "4  d2bb7f3a7aff27bde86d5da4834aaa584af3f1e8f89334...   \n",
       "\n",
       "                                        Barcodes/EAN PIM Product Name  \\\n",
       "0  67e0bdb7b6c549d4fa834d0f6848ce6a3a12e07de9cea9...   Product 04714d   \n",
       "1  9520e2f032a8297c8655670d4c7d36fec098b992e64842...   Product 410955   \n",
       "2  8eb24a6640c4f06227f76d5e04a38dbe51f37fd31f8dfb...   Product 182459   \n",
       "3  e3e2709ee4f926635d0af6013a5a386ce8274343d5803d...   Product 2fd5d7   \n",
       "4  a2c822ad6c4ba24b5f35d13da61a9691248faf454dcd44...   Product f9a213   \n",
       "\n",
       "                                           PIM Image Catalog Product Name  \\\n",
       "0  https://example.com/image_8a1c42816d5dfebb035f...       Product 04714d   \n",
       "1  https://example.com/image_b9cd4aeba4c0ad6f572e...       Product 0f420d   \n",
       "2  https://example.com/image_454ddcb818e468cc918c...       Product 8b7e14   \n",
       "3  https://example.com/image_a4e0abd80597251baedf...       Product a372cc   \n",
       "4  https://example.com/image_64b4b97185c5d5686e7d...       Product d9debc   \n",
       "\n",
       "                                       Catalog Image         GMV  Unnamed: 9  \\\n",
       "0  https://example.com/image_8a1c42816d5dfebb035f...   €2,580.28         NaN   \n",
       "1  https://example.com/image_b9cd4aeba4c0ad6f572e...     €339.97         NaN   \n",
       "2  https://example.com/image_454ddcb818e468cc918c...     €585.54         NaN   \n",
       "3  https://example.com/image_a4e0abd80597251baedf...   €4,329.74         NaN   \n",
       "4  https://example.com/image_64b4b97185c5d5686e7d...  €10,220.93         NaN   \n",
       "\n",
       "   ...  Unnamed: 40  Unnamed: 41  Unnamed: 42  Unnamed: 43  Unnamed: 44  \\\n",
       "0  ...          NaN          NaN          NaN          NaN          NaN   \n",
       "1  ...          NaN          NaN          NaN          NaN          NaN   \n",
       "2  ...          NaN          NaN          NaN          NaN          NaN   \n",
       "3  ...          NaN          NaN          NaN          NaN          NaN   \n",
       "4  ...          NaN          NaN          NaN          NaN          NaN   \n",
       "\n",
       "   Unnamed: 45  Unnamed: 46  Unnamed: 47  Unnamed: 48  Unnamed: 49  \n",
       "0          NaN          NaN          NaN          NaN        #REF!  \n",
       "1          NaN          NaN          NaN          NaN          NaN  \n",
       "2          NaN          NaN          NaN          NaN          NaN  \n",
       "3          NaN          NaN          NaN          NaN          NaN  \n",
       "4          NaN          NaN          NaN          NaN          NaN  \n",
       "\n",
       "[5 rows x 50 columns]"
      ]
     },
     "execution_count": 7,
     "metadata": {},
     "output_type": "execute_result"
    }
   ],
   "source": [
    "#Show 5 first rows of the dataset\n",
    "df.head()"
   ]
  },
  {
   "cell_type": "code",
   "execution_count": 9,
   "id": "194d2c29-5e1c-467a-a051-9b1b2682d341",
   "metadata": {},
   "outputs": [
    {
     "name": "stdout",
     "output_type": "stream",
     "text": [
      "<class 'pandas.core.frame.DataFrame'>\n",
      "RangeIndex: 6243 entries, 0 to 6242\n",
      "Data columns (total 50 columns):\n",
      " #   Column                Non-Null Count  Dtype  \n",
      "---  ------                --------------  -----  \n",
      " 0   Partner Name          6243 non-null   object \n",
      " 1   PIM PRODUCT CODE      6243 non-null   object \n",
      " 2   Catalog PRODUCT CODE  6243 non-null   object \n",
      " 3   Barcodes/EAN          6243 non-null   object \n",
      " 4   PIM Product Name      6243 non-null   object \n",
      " 5   PIM Image             6243 non-null   object \n",
      " 6   Catalog Product Name  6243 non-null   object \n",
      " 7   Catalog Image         6243 non-null   object \n",
      " 8   GMV                   6243 non-null   object \n",
      " 9   Unnamed: 9            0 non-null      float64\n",
      " 10  Unnamed: 10           0 non-null      float64\n",
      " 11  Unnamed: 11           0 non-null      float64\n",
      " 12  Unnamed: 12           0 non-null      float64\n",
      " 13  Unnamed: 13           0 non-null      float64\n",
      " 14  Unnamed: 14           0 non-null      float64\n",
      " 15  Unnamed: 15           0 non-null      float64\n",
      " 16  Unnamed: 16           0 non-null      float64\n",
      " 17  Unnamed: 17           0 non-null      float64\n",
      " 18  Unnamed: 18           0 non-null      float64\n",
      " 19  Unnamed: 19           0 non-null      float64\n",
      " 20  Unnamed: 20           0 non-null      float64\n",
      " 21  Unnamed: 21           0 non-null      float64\n",
      " 22  Unnamed: 22           0 non-null      float64\n",
      " 23  Unnamed: 23           0 non-null      float64\n",
      " 24  Unnamed: 24           0 non-null      float64\n",
      " 25  Unnamed: 25           0 non-null      float64\n",
      " 26  Unnamed: 26           0 non-null      float64\n",
      " 27  Unnamed: 27           0 non-null      float64\n",
      " 28  Unnamed: 28           0 non-null      float64\n",
      " 29  Unnamed: 29           0 non-null      float64\n",
      " 30  Unnamed: 30           0 non-null      float64\n",
      " 31  Unnamed: 31           0 non-null      float64\n",
      " 32  Unnamed: 32           0 non-null      float64\n",
      " 33  Unnamed: 33           0 non-null      float64\n",
      " 34  Unnamed: 34           0 non-null      float64\n",
      " 35  Unnamed: 35           0 non-null      float64\n",
      " 36  Unnamed: 36           0 non-null      float64\n",
      " 37  Unnamed: 37           0 non-null      float64\n",
      " 38  Unnamed: 38           0 non-null      float64\n",
      " 39  Unnamed: 39           0 non-null      float64\n",
      " 40  Unnamed: 40           0 non-null      float64\n",
      " 41  Unnamed: 41           0 non-null      float64\n",
      " 42  Unnamed: 42           0 non-null      float64\n",
      " 43  Unnamed: 43           0 non-null      float64\n",
      " 44  Unnamed: 44           0 non-null      float64\n",
      " 45  Unnamed: 45           0 non-null      float64\n",
      " 46  Unnamed: 46           0 non-null      float64\n",
      " 47  Unnamed: 47           0 non-null      float64\n",
      " 48  Unnamed: 48           0 non-null      float64\n",
      " 49  Unnamed: 49           1 non-null      object \n",
      "dtypes: float64(40), object(10)\n",
      "memory usage: 2.4+ MB\n"
     ]
    }
   ],
   "source": [
    "#Show basic information about the dataset\n",
    "df.info()"
   ]
  },
  {
   "cell_type": "code",
   "execution_count": 11,
   "id": "e146baa7-846b-4826-8f85-f97f35f73b06",
   "metadata": {},
   "outputs": [
    {
     "data": {
      "text/plain": [
       "Partner Name               0\n",
       "PIM PRODUCT CODE           0\n",
       "Catalog PRODUCT CODE       0\n",
       "Barcodes/EAN               0\n",
       "PIM Product Name           0\n",
       "PIM Image                  0\n",
       "Catalog Product Name       0\n",
       "Catalog Image              0\n",
       "GMV                        0\n",
       "Unnamed: 9              6243\n",
       "Unnamed: 10             6243\n",
       "Unnamed: 11             6243\n",
       "Unnamed: 12             6243\n",
       "Unnamed: 13             6243\n",
       "Unnamed: 14             6243\n",
       "Unnamed: 15             6243\n",
       "Unnamed: 16             6243\n",
       "Unnamed: 17             6243\n",
       "Unnamed: 18             6243\n",
       "Unnamed: 19             6243\n",
       "Unnamed: 20             6243\n",
       "Unnamed: 21             6243\n",
       "Unnamed: 22             6243\n",
       "Unnamed: 23             6243\n",
       "Unnamed: 24             6243\n",
       "Unnamed: 25             6243\n",
       "Unnamed: 26             6243\n",
       "Unnamed: 27             6243\n",
       "Unnamed: 28             6243\n",
       "Unnamed: 29             6243\n",
       "Unnamed: 30             6243\n",
       "Unnamed: 31             6243\n",
       "Unnamed: 32             6243\n",
       "Unnamed: 33             6243\n",
       "Unnamed: 34             6243\n",
       "Unnamed: 35             6243\n",
       "Unnamed: 36             6243\n",
       "Unnamed: 37             6243\n",
       "Unnamed: 38             6243\n",
       "Unnamed: 39             6243\n",
       "Unnamed: 40             6243\n",
       "Unnamed: 41             6243\n",
       "Unnamed: 42             6243\n",
       "Unnamed: 43             6243\n",
       "Unnamed: 44             6243\n",
       "Unnamed: 45             6243\n",
       "Unnamed: 46             6243\n",
       "Unnamed: 47             6243\n",
       "Unnamed: 48             6243\n",
       "Unnamed: 49             6242\n",
       "dtype: int64"
      ]
     },
     "execution_count": 11,
     "metadata": {},
     "output_type": "execute_result"
    }
   ],
   "source": [
    "#Show null values in each column\n",
    "df.isnull().sum()"
   ]
  },
  {
   "cell_type": "code",
   "execution_count": 35,
   "id": "c9e6060d-f96c-4b7a-9e06-1d2f0f1b5921",
   "metadata": {},
   "outputs": [],
   "source": [
    "#Drop null values\n",
    "df = df.dropna(axis=1, how='all')"
   ]
  },
  {
   "cell_type": "code",
   "execution_count": 37,
   "id": "6594de62-5118-4d57-ac28-0d39c1cbc6d2",
   "metadata": {},
   "outputs": [
    {
     "data": {
      "text/plain": [
       "0    #REF!\n",
       "Name: Unnamed: 49, dtype: object"
      ]
     },
     "execution_count": 37,
     "metadata": {},
     "output_type": "execute_result"
    }
   ],
   "source": [
    "#Check and drop value from one column\n",
    "df['Unnamed: 49'].dropna()"
   ]
  },
  {
   "cell_type": "code",
   "execution_count": 39,
   "id": "bba84b9b-bb1e-487f-a924-e04063de0be0",
   "metadata": {},
   "outputs": [],
   "source": [
    "#Drop irrelevant column\n",
    "df = df.drop(columns=['Unnamed: 49'], errors='ignore')"
   ]
  },
  {
   "cell_type": "code",
   "execution_count": 41,
   "id": "80067d08-21be-41cb-9052-6e75504fe165",
   "metadata": {},
   "outputs": [],
   "source": [
    "#Eliminate € symbol from GMV column for computational purposes, change type and rename column\n",
    "df['GMV'] = df['GMV'].replace('[€,]', '', regex=True).astype(float)\n",
    "df = df.rename(columns={'GMV': 'GMV (€)'})"
   ]
  },
  {
   "cell_type": "code",
   "execution_count": 43,
   "id": "de3f9bf6-578a-4d62-800a-abc32517fdca",
   "metadata": {},
   "outputs": [
    {
     "name": "stdout",
     "output_type": "stream",
     "text": [
      "Duplicate Rows:\n",
      "Empty DataFrame\n",
      "Columns: [Partner Name, PIM PRODUCT CODE, Catalog PRODUCT CODE, Barcodes/EAN, PIM Product Name, PIM Image, Catalog Product Name, Catalog Image, GMV (€)]\n",
      "Index: []\n"
     ]
    }
   ],
   "source": [
    "#Check for duplicate values\n",
    "duplicate_rows = df[df.duplicated()]\n",
    "print(\"Duplicate Rows:\")\n",
    "print(duplicate_rows)"
   ]
  },
  {
   "cell_type": "markdown",
   "id": "94d366a1-e36a-4d6b-980d-d2a1254e8f16",
   "metadata": {},
   "source": [
    "## Data Exploration\n",
    "In this section, I explored the dataset to identify discrepancies between the PIM and Catalog systems. Key steps included:\n",
    "- Checking the number of unique partners, products, and barcodes.\n",
    "- Identifying discrepancies in product names and images between PIM and Catalog data.\n",
    "- Analyzing discrepancies by partner to pinpoint inconsistencies.\n",
    "- Calculating GMV share for each partner to understand their contribution to overall sales."
   ]
  },
  {
   "cell_type": "code",
   "execution_count": 92,
   "id": "1cf384c8-feac-4d9d-b49f-a7e5afd7185e",
   "metadata": {
    "scrolled": true
   },
   "outputs": [
    {
     "name": "stdout",
     "output_type": "stream",
     "text": [
      "2\n",
      "['Partner A' 'Partner B']\n"
     ]
    }
   ],
   "source": [
    "#Check number and name of Partner column\n",
    "print(df['Partner Name'].nunique())\n",
    "print(df['Partner Name'].unique())"
   ]
  },
  {
   "cell_type": "code",
   "execution_count": 93,
   "id": "4304041f-7827-4209-b7b1-54c9d66d4b83",
   "metadata": {},
   "outputs": [
    {
     "name": "stdout",
     "output_type": "stream",
     "text": [
      "Total number of entries: 6243\n"
     ]
    }
   ],
   "source": [
    "# Count the total number of products\n",
    "total_entries = df.shape[0]\n",
    "print(f\"Total number of entries: {total_entries}\")"
   ]
  },
  {
   "cell_type": "code",
   "execution_count": 51,
   "id": "c5dd53bc-4123-4175-93c8-66c4c043038c",
   "metadata": {},
   "outputs": [
    {
     "name": "stdout",
     "output_type": "stream",
     "text": [
      "4391\n",
      "4391\n"
     ]
    }
   ],
   "source": [
    "# Check number of unique PIM product codes and barcodes\n",
    "unique_pim_codes = df['PIM PRODUCT CODE'].nunique()\n",
    "print(unique_pim_codes)\n",
    "unique_barcodes = df['Barcodes/EAN'].nunique()\n",
    "print(unique_barcodes)"
   ]
  },
  {
   "cell_type": "code",
   "execution_count": 53,
   "id": "89c7874b-922f-4054-997e-136d43c22b26",
   "metadata": {},
   "outputs": [
    {
     "name": "stdout",
     "output_type": "stream",
     "text": [
      "Partner Name            3034\n",
      "PIM PRODUCT CODE        3034\n",
      "Catalog PRODUCT CODE    3034\n",
      "Barcodes/EAN            3034\n",
      "PIM Product Name        3034\n",
      "PIM Image               3034\n",
      "Catalog Product Name    3034\n",
      "Catalog Image           3034\n",
      "GMV (€)                 3034\n",
      "dtype: int64\n"
     ]
    }
   ],
   "source": [
    "#Check total number of discrepancies\n",
    "discrepancies = df[\n",
    "    (df['PIM Product Name'] != df['Catalog Product Name']) |\n",
    "    (df['PIM Image'] != df['Catalog Image'])\n",
    "]\n",
    "print(discrepancies.count())"
   ]
  },
  {
   "cell_type": "code",
   "execution_count": 55,
   "id": "4f5ffe70-c0e6-408c-9203-481e18e0783b",
   "metadata": {},
   "outputs": [
    {
     "name": "stdout",
     "output_type": "stream",
     "text": [
      "\n",
      "Discrepancies in Product Names: 3016\n",
      "\n",
      "Discrepancies in Images: 233\n"
     ]
    }
   ],
   "source": [
    "#Check number of discrepancies in Product Names and Images. In this calculation, products with title discrepancies can also have image discrepancies\n",
    "#and products with image discrepancies can have title discrepancies\n",
    "title_discrepancies = df[df['PIM Product Name'] != df['Catalog Product Name']]\n",
    "image_discrepancies = df[df['PIM Image'] != df['Catalog Image']]\n",
    "print(f\"\\nDiscrepancies in Product Names: {len(title_discrepancies)}\")\n",
    "print(f\"\\nDiscrepancies in Images: {len(image_discrepancies)}\")"
   ]
  },
  {
   "cell_type": "code",
   "execution_count": 57,
   "id": "bca7f63f-45d2-48a6-b7e6-f65a2a32a61d",
   "metadata": {},
   "outputs": [
    {
     "data": {
      "text/plain": [
       "215"
      ]
     },
     "execution_count": 57,
     "metadata": {},
     "output_type": "execute_result"
    }
   ],
   "source": [
    "# Identify number of products with both image and name discrepancies\n",
    "both_discrepancies = df[(df['PIM Product Name'] != df['Catalog Product Name']) &\n",
    "                                (df['PIM Image'] != df['Catalog Image'])]\n",
    "both_discrepancies.shape[0]"
   ]
  },
  {
   "cell_type": "code",
   "execution_count": 59,
   "id": "d5d5ac43-ca83-49c7-9344-639c980e8dda",
   "metadata": {},
   "outputs": [
    {
     "name": "stdout",
     "output_type": "stream",
     "text": [
      "  Partner Name  Discrepancies\n",
      "0    Partner A           1600\n",
      "1    Partner B           1434\n"
     ]
    }
   ],
   "source": [
    "# Check discrepancies by partner\n",
    "partner_discrepancies = discrepancies['Partner Name'].value_counts().reset_index()\n",
    "partner_discrepancies.columns = ['Partner Name', 'Discrepancies']\n",
    "print(partner_discrepancies)"
   ]
  },
  {
   "cell_type": "code",
   "execution_count": 61,
   "id": "917ddfd2-ac02-4bcf-abd1-b8779ecf2f2d",
   "metadata": {},
   "outputs": [
    {
     "name": "stdout",
     "output_type": "stream",
     "text": [
      "Number of MPCs with overrides and the wrong image: 18\n"
     ]
    }
   ],
   "source": [
    "# Identify products with the correct title but the wrong image\n",
    "overrides_with_wrong_image = df[(df['PIM Product Name'] == df['Catalog Product Name']) & \n",
    "                                        (df['PIM Image'] != df['Catalog Image'])]\n",
    "\n",
    "print(f\"Number of MPCs with overrides and the wrong image: {overrides_with_wrong_image.shape[0]}\")"
   ]
  },
  {
   "cell_type": "code",
   "execution_count": 63,
   "id": "343fbacb-c52b-40af-b55d-202320962379",
   "metadata": {},
   "outputs": [
    {
     "name": "stdout",
     "output_type": "stream",
     "text": [
      "Number of MPCs with overrides and the wrong title: 2801\n"
     ]
    }
   ],
   "source": [
    "# Identify products with the correct image but the wrong title\n",
    "overrides_with_wrong_title = df[(df['PIM Product Name'] != df['Catalog Product Name']) & \n",
    "                                        (df['PIM Image'] == df['Catalog Image'])]\n",
    "\n",
    "print(f\"Number of MPCs with overrides and the wrong title: {overrides_with_wrong_title.shape[0]}\")"
   ]
  },
  {
   "cell_type": "markdown",
   "id": "abed763c-7efe-4e96-81ff-d96da2e3216a",
   "metadata": {},
   "source": [
    "## Product Name Similarities \n",
    "To quantify discrepancies between product names in the PIM and Catalog systems, I initially used **Jaccard Similarity**, a method commonly employed by the team. This approach measures the similarity between two sets of words by comparing their intersection and union. However, I found the results to be inconsistent, as Jaccard Similarity treats words as discrete units and doesn't account for partial matches or word order, which are critical for product name comparisons.\n",
    "\n",
    "To address these limitations, I implemented the **FuzzyWuzzy** method, which uses the **Levenshtein distance** to calculate similarity based on character-level differences. This approach is better suited for product name comparisons because:\n",
    "- It handles partial matches and typos effectively.\n",
    "- It considers word order and small variations, making it more robust for real-world text data.\n",
    "- It provides a more intuitive similarity score (0-100), which is easier to interpret and threshold.\n",
    "\n",
    "Using FuzzyWuzzy, I categorized products into three groups based on similarity thresholds:\n",
    "- **Same or Similar (≥80%)**: Nearly identical or very similar names.\n",
    "- **Similar (60% - 80%)**: Names with noticeable but acceptable differences.\n",
    "- **Totally Different (<60%)**: Names with significant discrepancies.\n",
    "\n",
    "This method provided more reliable and actionable insights, enabling a clearer understanding of product name discrepancies."
   ]
  },
  {
   "cell_type": "code",
   "execution_count": 101,
   "id": "44569bb8-341a-418a-a45f-c9ac0b43a031",
   "metadata": {},
   "outputs": [],
   "source": [
    "# Function to calculate Jaccard similarity\n",
    "def jaccard_similarity(row):\n",
    "    pim_name = set(row['PIM Product Name'].split())\n",
    "    catalog_name = set(row['Catalog Product Name'].split())\n",
    "    intersection = pim_name.intersection(catalog_name)\n",
    "    union = pim_name.union(catalog_name)\n",
    "    similarity = float(len(intersection)) / len(union)\n",
    "    return similarity\n",
    "\n",
    "# Apply the function and filter based on a similarity threshold\n",
    "df['Jaccard Similarity'] = df.apply(jaccard_similarity, axis=1)\n",
    "similar_products = df[df['Jaccard Similarity'] > 0.3]"
   ]
  },
  {
   "cell_type": "code",
   "execution_count": 69,
   "id": "69a2beb7-8204-4b08-880d-2623e00e8758",
   "metadata": {},
   "outputs": [
    {
     "name": "stdout",
     "output_type": "stream",
     "text": [
      "Top 10 Similarities:\n",
      "   PIM Product Name Catalog Product Name  Jaccard Similarity\n",
      "0    Product 04714d       Product 04714d                 1.0\n",
      "44   Product 8a87bd       Product 8a87bd                 1.0\n",
      "55   Product 256b89       Product 256b89                 1.0\n",
      "58   Product 5758e9       Product 5758e9                 1.0\n",
      "64   Product c77021       Product c77021                 1.0\n",
      "76   Product dbb241       Product dbb241                 1.0\n",
      "78   Product 412ab2       Product 412ab2                 1.0\n",
      "80   Product 82297d       Product 82297d                 1.0\n",
      "81   Product 0b0a26       Product 0b0a26                 1.0\n",
      "83   Product 3d468e       Product 3d468e                 1.0\n",
      "\n",
      "Bottom 10 Similarities:\n",
      "   PIM Product Name Catalog Product Name  Jaccard Similarity\n",
      "1    Product 410955       Product 0f420d            0.333333\n",
      "2    Product 182459       Product 8b7e14            0.333333\n",
      "3    Product 2fd5d7       Product a372cc            0.333333\n",
      "4    Product f9a213       Product d9debc            0.333333\n",
      "5    Product 40f361       Product 6801d8            0.333333\n",
      "6    Product 264848       Product 78ba9e            0.333333\n",
      "7    Product 13176d       Product cd63b6            0.333333\n",
      "8    Product 3b1fe4       Product e34248            0.333333\n",
      "9    Product 79ee86       Product a88413            0.333333\n",
      "10   Product baab2b       Product d1cce5            0.333333\n"
     ]
    }
   ],
   "source": [
    "# Check the top 10 and bottom 10 similarities\n",
    "top_10_similarities = df.nlargest(10, 'Jaccard Similarity')[['PIM Product Name', 'Catalog Product Name', 'Jaccard Similarity']]\n",
    "bottom_10_similarities = df.nsmallest(10, 'Jaccard Similarity')[['PIM Product Name', 'Catalog Product Name', 'Jaccard Similarity']]\n",
    "\n",
    "print(\"Top 10 Similarities:\")\n",
    "print(top_10_similarities)\n",
    "\n",
    "print(\"\\nBottom 10 Similarities:\")\n",
    "print(bottom_10_similarities)"
   ]
  },
  {
   "cell_type": "code",
   "execution_count": 71,
   "id": "13118b6e-27ee-4274-b15a-4c4abd68d2de",
   "metadata": {},
   "outputs": [
    {
     "name": "stdout",
     "output_type": "stream",
     "text": [
      "Percentage of same or similar products: 51.85%\n",
      "Percentage of similar products: 43.26%\n",
      "Percentage of totally different products: 4.89%\n"
     ]
    }
   ],
   "source": [
    "# Function to calculate fuzzy similarity\n",
    "def fuzzy_similarity(row):\n",
    "    return fuzz.ratio(row['PIM Product Name'], row['Catalog Product Name'])\n",
    "\n",
    "df['Fuzzy Similarity'] = df.apply(fuzzy_similarity, axis=1)\n",
    "\n",
    "# Define thresholds\n",
    "same_or_similar_threshold = 80\n",
    "totally_different_threshold = 60\n",
    "\n",
    "# Categorize products based on thresholds\n",
    "same_or_similar_products = df[df['Fuzzy Similarity'] >= same_or_similar_threshold]\n",
    "similar_products = df[(df['Fuzzy Similarity'] >= totally_different_threshold) & (df['Fuzzy Similarity'] < same_or_similar_threshold)]\n",
    "totally_different_products = df[df['Fuzzy Similarity'] < totally_different_threshold]\n",
    "\n",
    "# Calculate percentages\n",
    "same_or_similar_percentage = (same_or_similar_products.shape[0] / total_products) * 100\n",
    "similar_percentage = (similar_products.shape[0] / total_products) * 100\n",
    "totally_different_percentage = (totally_different_products.shape[0] / total_products) * 100\n",
    "\n",
    "# Display the results\n",
    "print(f\"Percentage of same or similar products: {same_or_similar_percentage:.2f}%\")\n",
    "print(f\"Percentage of similar products: {similar_percentage:.2f}%\")\n",
    "print(f\"Percentage of totally different products: {totally_different_percentage:.2f}%\")\n"
   ]
  },
  {
   "cell_type": "markdown",
   "id": "7ae9e450-5a28-48a9-ac75-4dd4f205cf5a",
   "metadata": {},
   "source": [
    "## Visualizations\n",
    "\n",
    "To better understand the data, I created several visualizations:\n",
    "1. **GMV Share by Partner**: A bar chart showing each partner's contribution to total GMV, highlighting their relative importance.\n",
    "2. **Product Similarity Analysis**: A bar chart categorizing products into \"Same or Similar,\" \"Similar,\" and \"Different\" based on FuzzyWuzzy similarity scores.\n",
    "3. **Discrepancy Breakdown**: A stacked bar chart showing the distribution of correct entries and discrepancies (name, image, or both).\n",
    "4. **Correlation Analysis**: A scatter plot with a trendline to explore the relationship between the number of discrepancies and total GMV per partner."
   ]
  },
  {
   "cell_type": "code",
   "execution_count": 65,
   "id": "3c88095b-9d9c-4fe7-91c4-8bf19e613255",
   "metadata": {},
   "outputs": [
    {
     "data": {
      "image/png": "[encoded data removed]",
      "text/plain": [
       "<Figure size 1000x600 with 1 Axes>"
      ]
     },
     "metadata": {},
     "output_type": "display_data"
    }
   ],
   "source": [
    "#Visualizing the GMV share for each partner\n",
    "# Calculate total GMV\n",
    "total_gmv = df['GMV (€)'].sum()\n",
    "# Calculate GMV per partner\n",
    "partner_gmv = df.groupby('Partner Name')['GMV (€)'].sum().reset_index()\n",
    "# Calculate GMV share for each partner\n",
    "partner_gmv['GMV Share'] = partner_gmv['GMV (€)'] / total_gmv * 100\n",
    "\n",
    "# Create a bar plot\n",
    "plt.figure(figsize=(10, 6))\n",
    "sns.barplot(x='Partner Name', y='GMV Share', data=partner_gmv, hue='Partner Name', dodge=False)\n",
    "plt.ylabel('GMV Share (%)', fontsize=14)\n",
    "plt.xlabel('')\n",
    "for index, value in enumerate(partner_gmv['GMV Share']):\n",
    "    plt.text(index, value + 0.5, f'{value:.1f}', ha='center', fontsize=12)\n",
    "plt.savefig('gmv_share_per_partner.png', bbox_inches='tight', transparent=True)\n",
    "plt.show()"
   ]
  },
  {
   "cell_type": "code",
   "execution_count": 73,
   "id": "3a37ded8-eddd-46b3-aa02-92124393b09f",
   "metadata": {},
   "outputs": [
    {
     "data": {
      "image/png": "[encoded data removed]",
      "text/plain": [
       "<Figure size 1000x600 with 1 Axes>"
      ]
     },
     "metadata": {},
     "output_type": "display_data"
    }
   ],
   "source": [
    "# Create a bar chart for FuzzyWuzzy\n",
    "categories = ['Same or Similar', 'Similar', 'Different']\n",
    "percentages = [same_or_similar_percentage, similar_percentage, totally_different_percentage]\n",
    "\n",
    "plt.figure(figsize=(10, 6))\n",
    "plt.bar(categories, percentages, color=['green', 'orange', 'red'])\n",
    "plt.ylabel('Percentage')\n",
    "for index, value in enumerate(percentages):\n",
    "    plt.text(index, value + 1, f'{value:.2f}%', ha='center')\n",
    "plt.savefig('product_similarity_analysis.png', transparent=True)\n",
    "plt.show()"
   ]
  },
  {
   "cell_type": "code",
   "execution_count": 75,
   "id": "f45f5623-4e83-41e8-b0f7-11a0087613af",
   "metadata": {},
   "outputs": [
    {
     "data": {
      "image/png": "[encoded data removed]",
      "text/plain": [
       "<Figure size 1000x600 with 1 Axes>"
      ]
     },
     "metadata": {},
     "output_type": "display_data"
    }
   ],
   "source": [
    "#Vizualize total correct and incorrect entries (discrepancies) by type\n",
    "# Identify correct entries\n",
    "totally_correct = df[\n",
    "    (df['PIM PRODUCT CODE'] == df['PIM PRODUCT CODE']) &\n",
    "    (df['Barcodes/EAN'] == df['Barcodes/EAN']) &\n",
    "    (df['PIM Product Name'] == df['Catalog Product Name']) &\n",
    "    (df['PIM Image'] == df['Catalog Image'])\n",
    "]\n",
    "\n",
    "# Identify incorrect entries\n",
    "incorrect = df[~df.index.isin(totally_correct.index)]\n",
    "\n",
    "# Identify type of discrepancies\n",
    "name_discrepancies = incorrect[(incorrect['PIM Product Name'] != incorrect['Catalog Product Name']) &\n",
    "                               (incorrect['PIM Image'] == incorrect['Catalog Image'])]\n",
    "image_discrepancies = incorrect[(incorrect['PIM Product Name'] == incorrect['Catalog Product Name']) &\n",
    "                                (incorrect['PIM Image'] != incorrect['Catalog Image'])]\n",
    "both_discrepancies = incorrect[(incorrect['PIM Product Name'] != incorrect['Catalog Product Name']) &\n",
    "                               (incorrect['PIM Image'] != incorrect['Catalog Image'])]\n",
    "\n",
    "# Count the number of each type\n",
    "num_totally_correct = totally_correct.shape[0]\n",
    "num_name_discrepancies = name_discrepancies.shape[0]\n",
    "num_image_discrepancies = image_discrepancies.shape[0]\n",
    "num_both_discrepancies = both_discrepancies.shape[0]\n",
    "\n",
    "# Prepare data for visualization\n",
    "categories = ['Correct Entries', 'Incorrect Entries']\n",
    "correct_count = [num_totally_correct, 0]\n",
    "incorrect_count = [0, num_name_discrepancies + num_image_discrepancies + num_both_discrepancies]\n",
    "sub_categories = ['Only Name Discrepancy', 'Only Image Discrepancy', 'Both Discrepancies']\n",
    "sub_counts = [num_name_discrepancies, num_image_discrepancies, num_both_discrepancies]\n",
    "\n",
    "# Create the stacked bar chart\n",
    "fig, ax = plt.subplots(figsize=(10, 6))\n",
    "ax.bar(categories, correct_count, color='#4CAF50', label='Correct Entries')\n",
    "bottom_counts = [0, 0]\n",
    "colors = ['#FF5733', '#33C3FF', '#FF33F6']\n",
    "for i, count in enumerate(sub_counts):\n",
    "    ax.bar(categories, [0, count], bottom=bottom_counts, label=sub_categories[i], color=colors[i])\n",
    "    bottom_counts[1] += count\n",
    "ax.set_ylabel('Number of Products')\n",
    "ax.legend(loc='upper center', bbox_to_anchor=(0.5, -0.05), ncol=3, fontsize='small')\n",
    "plt.savefig('product_discrepancies_stacked.png', transparent=True)\n",
    "plt.show()"
   ]
  },
  {
   "cell_type": "code",
   "execution_count": 77,
   "id": "9aebe840-f660-4996-a2f4-fb1f2027d9b0",
   "metadata": {},
   "outputs": [
    {
     "name": "stdout",
     "output_type": "stream",
     "text": [
      "Correlation coefficient between number of discrepancies and total GMV: -1.00\n"
     ]
    },
    {
     "data": {
      "image/png": "[encoded data removed]",
      "text/plain": [
       "<Figure size 1000x600 with 1 Axes>"
      ]
     },
     "metadata": {},
     "output_type": "display_data"
    }
   ],
   "source": [
    "# Calculate and visualize correlation between discrepancies and GMV\n",
    "# Create columns for discrepancies\n",
    "df['Name Discrepancy'] = df['PIM Product Name'] != df['Catalog Product Name']\n",
    "df['Image Discrepancy'] = df['PIM Image'] != df['Catalog Image']\n",
    "# Count the number of discrepancies per partner\n",
    "df['Total Discrepancies'] = df['Name Discrepancy'].astype(int) + df['Image Discrepancy'].astype(int)\n",
    "# Aggregate data to calculate the number of discrepancies and total GMV per partner\n",
    "aggregated_data = df.groupby('Partner Name').agg({\n",
    "    'Total Discrepancies': 'sum',\n",
    "    'GMV (€)': 'sum'\n",
    "}).reset_index()\n",
    "# Calculate correlation coefficient\n",
    "correlation_coefficient = aggregated_data['Total Discrepancies'].corr(aggregated_data['GMV (€)'])\n",
    "print(f\"Correlation coefficient between number of discrepancies and total GMV: {correlation_coefficient:.2f}\")\n",
    "# Plot scatter plot with trendline\n",
    "plt.figure(figsize=(10, 6))\n",
    "sns.regplot(x='Total Discrepancies', y='GMV (€)', data=aggregated_data, ci=None, scatter_kws={\"s\": 50})\n",
    "plt.xlabel('Total Discrepancies')\n",
    "plt.ylabel('Total GMV (€)')\n",
    "plt.title('Correlation between Number of Discrepancies and Total GMV')\n",
    "plt.show()\n"
   ]
  },
  {
   "cell_type": "code",
   "execution_count": null,
   "id": "1442634e-b89a-413f-ab04-d8f4df2643d9",
   "metadata": {},
   "outputs": [],
   "source": []
  }
 ],
 "metadata": {
  "kernelspec": {
   "display_name": "Python [conda env:base] *",
   "language": "python",
   "name": "conda-base-py"
  },
  "language_info": {
   "codemirror_mode": {
    "name": "ipython",
    "version": 3
   },
   "file_extension": ".py",
   "mimetype": "text/x-python",
   "name": "python",
   "nbconvert_exporter": "python",
   "pygments_lexer": "ipython3",
   "version": "3.12.7"
  }
 },
 "nbformat": 4,
 "nbformat_minor": 5
}
